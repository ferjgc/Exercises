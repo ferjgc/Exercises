{
 "cells": [
  {
   "cell_type": "code",
   "execution_count": 1,
   "id": "9813dcda-4c63-49ee-b3d3-34d6c8147fc0",
   "metadata": {},
   "outputs": [
    {
     "name": "stdout",
     "output_type": "stream",
     "text": [
      "[9, 7, 1, 5, 4]\n",
      "[8, 7, 2, 2, 0]\n"
     ]
    },
    {
     "data": {
      "image/png": "[encoded data removed]",
      "text/plain": [
       "<Figure size 432x288 with 1 Axes>"
      ]
     },
     "metadata": {
      "needs_background": "light"
     },
     "output_type": "display_data"
    }
   ],
   "source": [
    "import matplotlib.pyplot as plt\n",
    "import numpy as np\n",
    "from random import randrange\n",
    "\n",
    "time1 = 'Azul'\n",
    "time2 = 'Laranja'\n",
    "\n",
    "nome_esportes = ['Handbol', 'Futebol', 'Volei', 'Basquete', 'Baseball']\n",
    "pontuacao_azul = []\n",
    "pontuacao_laranja = []\n",
    "\n",
    "for i in range(0, 5):\n",
    "    pontuacao_azul.append(randrange(0, 11))\n",
    "for i in range(0, 5):\n",
    "    pontuacao_laranja.append(randrange(0, 11))\n",
    "    \n",
    "print(pontuacao_azul)\n",
    "print(pontuacao_laranja)\n",
    "\n",
    "esportes = np.arange(len(nome_esportes))\n",
    "largura = 0.45\n",
    "\n",
    "# Montar o gráfico\n",
    "figura, eixos = plt.subplots()\n",
    "\n",
    "barra_azul = eixos.bar(esportes - largura/2, pontuacao_azul, largura, label=time1)\n",
    "barra_laranja = eixos.bar(esportes + largura/2, pontuacao_laranja, largura, label=time2)\n",
    "\n",
    "# Textos nos eixos:\n",
    "eixos.set_ylabel('Pontuação no esporte')\n",
    "eixos.set_xlabel('Modalidade do esporte')\n",
    "eixos.set_title('Gincana Escolar')\n",
    "eixos.set_xticks(esportes)\n",
    "eixos.set_xticklabels(nome_esportes)\n",
    "eixos.legend()\n",
    "\n",
    "figura.tight_layout()\n",
    "\n",
    "plt.show()"
   ]
  },
  {
   "cell_type": "code",
   "execution_count": null,
   "id": "b8b57ba8-dba4-45b1-851c-732b4854c230",
   "metadata": {},
   "outputs": [],
   "source": []
  }
 ],
 "metadata": {
  "kernelspec": {
   "display_name": "Python 3 (ipykernel)",
   "language": "python",
   "name": "python3"
  },
  "language_info": {
   "codemirror_mode": {
    "name": "ipython",
    "version": 3
   },
   "file_extension": ".py",
   "mimetype": "text/x-python",
   "name": "python",
   "nbconvert_exporter": "python",
   "pygments_lexer": "ipython3",
   "version": "3.9.7"
  }
 },
 "nbformat": 4,
 "nbformat_minor": 5
}
